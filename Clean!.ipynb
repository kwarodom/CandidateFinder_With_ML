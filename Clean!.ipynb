{
 "cells": [
  {
   "cell_type": "code",
   "execution_count": 1,
   "metadata": {
    "collapsed": true
   },
   "outputs": [],
   "source": [
    "import numpy as np\n",
    "import pandas as pd\n",
    "candi_raw = pd.read_csv('full_candidate.csv')\n",
    "jobs_raw = pd.read_csv('test_job.csv')"
   ]
  },
  {
   "cell_type": "code",
   "execution_count": 3,
   "metadata": {},
   "outputs": [
    {
     "data": {
      "text/html": [
       "<div>\n",
       "<style>\n",
       "    .dataframe thead tr:only-child th {\n",
       "        text-align: right;\n",
       "    }\n",
       "\n",
       "    .dataframe thead th {\n",
       "        text-align: left;\n",
       "    }\n",
       "\n",
       "    .dataframe tbody tr th {\n",
       "        vertical-align: top;\n",
       "    }\n",
       "</style>\n",
       "<table border=\"1\" class=\"dataframe\">\n",
       "  <thead>\n",
       "    <tr style=\"text-align: right;\">\n",
       "      <th></th>\n",
       "      <th>Unnamed: 0</th>\n",
       "      <th>educations</th>\n",
       "      <th>location</th>\n",
       "      <th>organizations</th>\n",
       "      <th>skills</th>\n",
       "    </tr>\n",
       "  </thead>\n",
       "  <tbody>\n",
       "    <tr>\n",
       "      <th>0</th>\n",
       "      <td>0</td>\n",
       "      <td>[{'Education 1': {'Education Start 1': 'nan', ...</td>\n",
       "      <td>Thailand</td>\n",
       "      <td>[{'Organization 1': {'Organization End 1': 'Ap...</td>\n",
       "      <td>[{'Strategy': Decimal('98')}, {'Start-ups': De...</td>\n",
       "    </tr>\n",
       "    <tr>\n",
       "      <th>1</th>\n",
       "      <td>1</td>\n",
       "      <td>[{'Education 1': {'Education Start 1': 'nan', ...</td>\n",
       "      <td>Thailand</td>\n",
       "      <td>[{'Organization 1': {'Organization End 1': 'Ma...</td>\n",
       "      <td>[{'Management': Decimal('14')}, {'Social Media...</td>\n",
       "    </tr>\n",
       "    <tr>\n",
       "      <th>2</th>\n",
       "      <td>2</td>\n",
       "      <td>[{'Education 1': {'Education Start 1': 'nan', ...</td>\n",
       "      <td>Thailand</td>\n",
       "      <td>[{'Organization 1': {'Organization End 1': 'Oc...</td>\n",
       "      <td>[{'Sales': Decimal('4')}, {'Logistics': Decima...</td>\n",
       "    </tr>\n",
       "    <tr>\n",
       "      <th>3</th>\n",
       "      <td>3</td>\n",
       "      <td>[{'Education 1': {'Education Start 1': 'nan', ...</td>\n",
       "      <td>Thailand</td>\n",
       "      <td>[{'Organization 1': {'Organization End 1': 'Ju...</td>\n",
       "      <td>[{'Food': Decimal('10')}, {'Marketing Strategy...</td>\n",
       "    </tr>\n",
       "    <tr>\n",
       "      <th>4</th>\n",
       "      <td>4</td>\n",
       "      <td>[{'Education 1': {'Education Start 1': 'nan', ...</td>\n",
       "      <td>Thailand</td>\n",
       "      <td>[{'Organization 1': {'Organization End 1': 'Ja...</td>\n",
       "      <td>[{'FinTech': Decimal('42')}, {'Biometrics': De...</td>\n",
       "    </tr>\n",
       "  </tbody>\n",
       "</table>\n",
       "</div>"
      ],
      "text/plain": [
       "   Unnamed: 0                                         educations  location  \\\n",
       "0           0  [{'Education 1': {'Education Start 1': 'nan', ...  Thailand   \n",
       "1           1  [{'Education 1': {'Education Start 1': 'nan', ...  Thailand   \n",
       "2           2  [{'Education 1': {'Education Start 1': 'nan', ...  Thailand   \n",
       "3           3  [{'Education 1': {'Education Start 1': 'nan', ...  Thailand   \n",
       "4           4  [{'Education 1': {'Education Start 1': 'nan', ...  Thailand   \n",
       "\n",
       "                                       organizations  \\\n",
       "0  [{'Organization 1': {'Organization End 1': 'Ap...   \n",
       "1  [{'Organization 1': {'Organization End 1': 'Ma...   \n",
       "2  [{'Organization 1': {'Organization End 1': 'Oc...   \n",
       "3  [{'Organization 1': {'Organization End 1': 'Ju...   \n",
       "4  [{'Organization 1': {'Organization End 1': 'Ja...   \n",
       "\n",
       "                                              skills  \n",
       "0  [{'Strategy': Decimal('98')}, {'Start-ups': De...  \n",
       "1  [{'Management': Decimal('14')}, {'Social Media...  \n",
       "2  [{'Sales': Decimal('4')}, {'Logistics': Decima...  \n",
       "3  [{'Food': Decimal('10')}, {'Marketing Strategy...  \n",
       "4  [{'FinTech': Decimal('42')}, {'Biometrics': De...  "
      ]
     },
     "execution_count": 3,
     "metadata": {},
     "output_type": "execute_result"
    }
   ],
   "source": [
    "candi_raw.head()"
   ]
  },
  {
   "cell_type": "code",
   "execution_count": 4,
   "metadata": {},
   "outputs": [
    {
     "data": {
      "text/html": [
       "<div>\n",
       "<style>\n",
       "    .dataframe thead tr:only-child th {\n",
       "        text-align: right;\n",
       "    }\n",
       "\n",
       "    .dataframe thead th {\n",
       "        text-align: left;\n",
       "    }\n",
       "\n",
       "    .dataframe tbody tr th {\n",
       "        vertical-align: top;\n",
       "    }\n",
       "</style>\n",
       "<table border=\"1\" class=\"dataframe\">\n",
       "  <thead>\n",
       "    <tr style=\"text-align: right;\">\n",
       "      <th></th>\n",
       "      <th>Unnamed: 0</th>\n",
       "      <th>address</th>\n",
       "      <th>city</th>\n",
       "      <th>company</th>\n",
       "      <th>country</th>\n",
       "      <th>currency</th>\n",
       "      <th>department</th>\n",
       "      <th>description</th>\n",
       "      <th>id</th>\n",
       "      <th>insert_date</th>\n",
       "      <th>...</th>\n",
       "      <th>nationalities</th>\n",
       "      <th>owner</th>\n",
       "      <th>refer_bonus</th>\n",
       "      <th>salary</th>\n",
       "      <th>status</th>\n",
       "      <th>status2</th>\n",
       "      <th>title</th>\n",
       "      <th>title_type</th>\n",
       "      <th>uuid</th>\n",
       "      <th>view</th>\n",
       "    </tr>\n",
       "  </thead>\n",
       "  <tbody>\n",
       "    <tr>\n",
       "      <th>0</th>\n",
       "      <td>0</td>\n",
       "      <td>Rama 9</td>\n",
       "      <td>Bangkok</td>\n",
       "      <td>2C2P</td>\n",
       "      <td>Thailand</td>\n",
       "      <td>THB</td>\n",
       "      <td>6</td>\n",
       "      <td>&lt;p&gt;&lt;strong&gt;Responsibilities&lt;/strong&gt;&lt;/p&gt;&lt;ul&gt;&lt;l...</td>\n",
       "      <td>573</td>\n",
       "      <td>2017-02-02 06:17:36</td>\n",
       "      <td>...</td>\n",
       "      <td>Expats Only</td>\n",
       "      <td>NaN</td>\n",
       "      <td>16000</td>\n",
       "      <td>80000</td>\n",
       "      <td>0</td>\n",
       "      <td>0</td>\n",
       "      <td>Sr.Web developer</td>\n",
       "      <td>Payment gateway</td>\n",
       "      <td>1ce799bcb51f31a4a93dcb7e97db32e3</td>\n",
       "      <td>913</td>\n",
       "    </tr>\n",
       "    <tr>\n",
       "      <th>1</th>\n",
       "      <td>1</td>\n",
       "      <td>Sukhumvit Rd</td>\n",
       "      <td>Bangkok</td>\n",
       "      <td>AdAsia</td>\n",
       "      <td>Thailand</td>\n",
       "      <td>THB</td>\n",
       "      <td>7</td>\n",
       "      <td>&lt;p&gt;&lt;strong&gt;Responsible:&lt;/strong&gt;&lt;/p&gt;&lt;ul&gt;&lt;li&gt;Pr...</td>\n",
       "      <td>681</td>\n",
       "      <td>2017-04-27 09:41:27</td>\n",
       "      <td>...</td>\n",
       "      <td>Thai</td>\n",
       "      <td>NaN</td>\n",
       "      <td>8000</td>\n",
       "      <td>40000</td>\n",
       "      <td>0</td>\n",
       "      <td>0</td>\n",
       "      <td>Manager</td>\n",
       "      <td>NaN</td>\n",
       "      <td>0aaea9929fe33fc394c0a9e225096b7a</td>\n",
       "      <td>134</td>\n",
       "    </tr>\n",
       "    <tr>\n",
       "      <th>2</th>\n",
       "      <td>2</td>\n",
       "      <td>Wattana Bangkok 10110</td>\n",
       "      <td>Bangkok</td>\n",
       "      <td>True DMP  Reed</td>\n",
       "      <td>Thailand</td>\n",
       "      <td>THB</td>\n",
       "      <td>3</td>\n",
       "      <td>&lt;p&gt;&lt;strong&gt;Qualifications&lt;/strong&gt;&lt;/p&gt;&lt;ul&gt;&lt;li&gt;...</td>\n",
       "      <td>259</td>\n",
       "      <td>2015-12-28 04:10:12</td>\n",
       "      <td>...</td>\n",
       "      <td>All</td>\n",
       "      <td>NaN</td>\n",
       "      <td>20000</td>\n",
       "      <td>80000</td>\n",
       "      <td>0</td>\n",
       "      <td>0</td>\n",
       "      <td>Quality Engineer</td>\n",
       "      <td>Digital Media Platform</td>\n",
       "      <td>c4e601348d313e9fa3d9b6b974ce1a83</td>\n",
       "      <td>552</td>\n",
       "    </tr>\n",
       "    <tr>\n",
       "      <th>3</th>\n",
       "      <td>3</td>\n",
       "      <td>NaN</td>\n",
       "      <td>Bangkok</td>\n",
       "      <td>Kaidee</td>\n",
       "      <td>Thailand</td>\n",
       "      <td>THB</td>\n",
       "      <td>3</td>\n",
       "      <td>&lt;p&gt;Our client is seeking a senior team member ...</td>\n",
       "      <td>627</td>\n",
       "      <td>2017-03-20 03:18:41</td>\n",
       "      <td>...</td>\n",
       "      <td>NaN</td>\n",
       "      <td>NaN</td>\n",
       "      <td>40000</td>\n",
       "      <td>150000</td>\n",
       "      <td>0</td>\n",
       "      <td>0</td>\n",
       "      <td>Engineering Director</td>\n",
       "      <td>NaN</td>\n",
       "      <td>e679915247e93394bd4d5c7ac2a564f9</td>\n",
       "      <td>558</td>\n",
       "    </tr>\n",
       "    <tr>\n",
       "      <th>4</th>\n",
       "      <td>4</td>\n",
       "      <td>Rama IX</td>\n",
       "      <td>Bangkok</td>\n",
       "      <td>TRUE DMP  Rodney</td>\n",
       "      <td>Thailand</td>\n",
       "      <td>THB</td>\n",
       "      <td>6</td>\n",
       "      <td>&lt;p&gt;&lt;strong&gt;Company description&lt;/strong&gt;&lt;/p&gt;&lt;p&gt;...</td>\n",
       "      <td>549</td>\n",
       "      <td>2017-01-18 13:16:19</td>\n",
       "      <td>...</td>\n",
       "      <td>Thai</td>\n",
       "      <td>NaN</td>\n",
       "      <td>16000</td>\n",
       "      <td>80000</td>\n",
       "      <td>0</td>\n",
       "      <td>0</td>\n",
       "      <td>Solution Architect</td>\n",
       "      <td>Digital Media Platform</td>\n",
       "      <td>1a72cd9fa7ae34f7979be29bc3d5a466</td>\n",
       "      <td>1007</td>\n",
       "    </tr>\n",
       "  </tbody>\n",
       "</table>\n",
       "<p>5 rows × 24 columns</p>\n",
       "</div>"
      ],
      "text/plain": [
       "   Unnamed: 0                address     city           company   country  \\\n",
       "0           0                 Rama 9  Bangkok              2C2P  Thailand   \n",
       "1           1           Sukhumvit Rd  Bangkok            AdAsia  Thailand   \n",
       "2           2  Wattana Bangkok 10110  Bangkok    True DMP  Reed  Thailand   \n",
       "3           3                    NaN  Bangkok            Kaidee  Thailand   \n",
       "4           4                Rama IX  Bangkok  TRUE DMP  Rodney  Thailand   \n",
       "\n",
       "  currency  department                                        description  \\\n",
       "0      THB           6  <p><strong>Responsibilities</strong></p><ul><l...   \n",
       "1      THB           7  <p><strong>Responsible:</strong></p><ul><li>Pr...   \n",
       "2      THB           3  <p><strong>Qualifications</strong></p><ul><li>...   \n",
       "3      THB           3  <p>Our client is seeking a senior team member ...   \n",
       "4      THB           6  <p><strong>Company description</strong></p><p>...   \n",
       "\n",
       "    id          insert_date  ...   nationalities owner refer_bonus  salary  \\\n",
       "0  573  2017-02-02 06:17:36  ...     Expats Only   NaN       16000   80000   \n",
       "1  681  2017-04-27 09:41:27  ...            Thai   NaN        8000   40000   \n",
       "2  259  2015-12-28 04:10:12  ...             All   NaN       20000   80000   \n",
       "3  627  2017-03-20 03:18:41  ...             NaN   NaN       40000  150000   \n",
       "4  549  2017-01-18 13:16:19  ...            Thai   NaN       16000   80000   \n",
       "\n",
       "  status status2                 title              title_type  \\\n",
       "0      0       0      Sr.Web developer         Payment gateway   \n",
       "1      0       0               Manager                     NaN   \n",
       "2      0       0      Quality Engineer  Digital Media Platform   \n",
       "3      0       0  Engineering Director                     NaN   \n",
       "4      0       0    Solution Architect  Digital Media Platform   \n",
       "\n",
       "                               uuid  view  \n",
       "0  1ce799bcb51f31a4a93dcb7e97db32e3   913  \n",
       "1  0aaea9929fe33fc394c0a9e225096b7a   134  \n",
       "2  c4e601348d313e9fa3d9b6b974ce1a83   552  \n",
       "3  e679915247e93394bd4d5c7ac2a564f9   558  \n",
       "4  1a72cd9fa7ae34f7979be29bc3d5a466  1007  \n",
       "\n",
       "[5 rows x 24 columns]"
      ]
     },
     "execution_count": 4,
     "metadata": {},
     "output_type": "execute_result"
    }
   ],
   "source": [
    "jobs_raw.head()"
   ]
  },
  {
   "cell_type": "code",
   "execution_count": 7,
   "metadata": {},
   "outputs": [
    {
     "data": {
      "text/plain": [
       "0    [{'Strategy': Decimal('98')}, {'Start-ups': De...\n",
       "1    [{'Management': Decimal('14')}, {'Social Media...\n",
       "2    [{'Sales': Decimal('4')}, {'Logistics': Decima...\n",
       "3    [{'Food': Decimal('10')}, {'Marketing Strategy...\n",
       "4    [{'FinTech': Decimal('42')}, {'Biometrics': De...\n",
       "Name: skills, dtype: object"
      ]
     },
     "execution_count": 7,
     "metadata": {},
     "output_type": "execute_result"
    }
   ],
   "source": [
    "candi_sk = candi_raw[\"skills\"]\n",
    "candi_sk.head()"
   ]
  },
  {
   "cell_type": "code",
   "execution_count": 16,
   "metadata": {
    "collapsed": true
   },
   "outputs": [],
   "source": [
    "def skill_to_list(skill_str):\n",
    "    return list(map(lambda x : x[1:-1].split(': ')[0][1:-1],skill_str[1:-1].split(', ')))"
   ]
  },
  {
   "cell_type": "code",
   "execution_count": 33,
   "metadata": {
    "scrolled": false
   },
   "outputs": [
    {
     "name": "stdout",
     "output_type": "stream",
     "text": [
      "there are 395 skills where #common > 10 skills\n",
      "common skills are: ['Strategy', 'Start-ups', 'Business Strategy', 'Management', 'Entrepreneurship', 'Business Development', 'Strategic Planning', 'Project Management', 'E-commerce', 'Business Planning', 'New Business Development', 'Management Consulting', 'Leadership', 'Training', 'Organizational Development', 'Negotiation', 'Marketing', 'Program Management', 'Operations Management', 'Marketing Strategy', 'Mobile Devices', 'Change Management', 'Strategic Partnerships', 'International Business', 'Social Media', 'Microsoft Office', 'Customer Service', 'Microsoft Excel', 'Facebook', 'Microsoft Word', 'Research', 'PowerPoint', 'Communication', 'Public Speaking', 'Sales', 'Logistics', 'Supply Chain Management', 'Logistics Management', 'Sales Management', 'Marketing Management', 'Team Leadership', 'FMCG', 'Team Building', 'Consumer Products', 'CRM', 'SaaS', 'Market Research', 'Enterprise Software', 'Product Management', 'Online Marketing', 'Social Media Marketing', 'Digital Marketing', 'International Sales', 'Mobile Applications', 'Lead Generation', 'B2B', 'Advertising', 'Product Marketing', 'Consulting', 'Integration', 'Mobile Marketing', 'Direct Sales', 'Analysis', 'Telecommunications', 'Sales Process', 'Key Account Management', 'Digital Strategy', 'Go-to-market Strategy', 'Market Analysis', 'JSON', 'HTML', 'PHP', 'OOP', 'Objective-C', 'HTML5', 'Flash', 'SQL', 'JavaScript', 'Java', 'Software Development', 'XML', 'Oracle', 'Java Enterprise Edition', 'Agile Methodologies', 'MySQL', 'Scrum', 'Microsoft SQL Server', 'Solution Architecture', 'Requirements Analysis', 'Outsourcing', 'Automotive', 'Sales Operations', 'Sourcing', 'Media Relations', 'Public Relations', 'Corporate Communications', 'Marketing Communications', 'Internal Communications', 'Event Management', 'Press Releases', 'Strategic Communications', 'Event Planning', 'Integrated Marketing', 'Media Planning', 'Social Networking', 'Brand Management', 'Digital Media', 'Product Development', 'Merchandising', 'Copywriting', 'Online Advertising', 'Business Analysis', 'Vendor Management', 'Databases', 'Web Development', 'CSS', 'iOS development', 'Photography', 'Creative Strategy', 'Testing', 'Analytical Skills', 'Cascading Style Sheets (CSS)', 'Web Design', 'HTML 5', 'iOS Development', 'Android', 'Linux', 'Embedded Systems', 'C', 'C++', 'Software Engineering', 'iOS', 'Python', 'SEO', 'SEM', 'Email Marketing', 'PPC', 'Web Marketing', 'Hospitality Industry', 'Google Analytics', 'Web Analytics', 'Hospitality', 'Search Engine Optimization (SEO)', 'Inventory Management', 'Finance', 'Accounting', 'Computer Hardware', 'Windows', 'Windows Server', 'CSS3', 'IT Strategy', 'IT Management', 'IT Service Management', 'IT Operations', 'Graphic Design', 'Video Production', 'English', 'Teamwork', 'Data Analysis', 'Photoshop', 'Teaching', 'Creative Writing', 'Time Management', 'Fashion', '.NET', 'Ruby on Rails', 'Software Project Management', 'ASP.NET', 'C#', 'Web Applications', 'jQuery', 'Git', 'Android Development', 'Manufacturing', 'Electronics', 'Lean Manufacturing', 'Automation', 'ISO', 'Continuous Improvement', 'Supply Chain', 'FMEA', 'Kaizen', '5S', 'Competitive Analysis', 'Analytics', 'Brand Development', 'Customer Insight', 'Direct Marketing', 'Apache', 'Dreamweaver', 'IIS', 'WordPress', 'User Interface Design', 'Programming', 'Google Adwords', 'CMS', 'AJAX', 'Visual Studio', 'Joomla', 'Web Services', 'MongoDB', 'AngularJS', 'Human Resources', 'Employee Relations', 'Performance Management', 'Talent Management', 'Talent Acquisition', 'Employee Engagement', 'Leadership Development', 'Succession Planning', 'Recruiting', 'Business Intelligence', 'HR Consulting', 'Project Planning', 'Onboarding', 'HRIS', 'SAP ERP', 'SAP R/3', 'SAP Implementation', 'SAP', 'ERP', 'Enterprise Resource Planning (ERP)', 'Budgets', 'Engineering', 'Six Sigma', 'PLC', 'Process Improvement', 'Engineering Management', 'Electrical Engineering', 'Executive Search', 'Technical Recruiting', 'Recruitment Advertising', 'Interviews', 'Contract Recruitment', 'Team Management', 'Screening', 'Networking', 'Customer Satisfaction', 'Account Management', 'Systems Analysis', 'Crystal Reports', 'Wireless', 'Channel Partners', 'Customer Relationship Management (CRM)', 'Visio', 'Business Process', 'Retail', 'Corporate Branding', 'Product Launch', 'Problem Solving', 'Coaching', 'Interviewing', 'Machine Learning', 'Investments', 'Financial Modeling', 'Statistics', 'Outlook', 'Marketing Research', 'Cisco Technologies', 'TCP/IP', 'Troubleshooting', 'Unix', 'Visual Basic', 'Ruby', 'Node.js', 'Business Process Improvement', 'Enterprise Architecture', 'Risk Management', 'Pre-sales', 'Project Delivery', 'Agile Project Management', 'Quality Management', 'Hotels', 'Hospitality Management', 'Resorts', 'Hotel Management', 'Food & Beverage', 'Tourism', 'Pre-opening', 'Financial Reporting', 'Internal Controls', 'Auditing', 'Real Estate', 'Procurement', 'Energy', 'Laravel', 'Bootstrap', 'Solution Selling', 'Banking', 'Content Management', 'Warehouse Management', 'Cross-functional Team Leadership', 'Financial Services', 'Portfolio Management', 'Mergers & Acquisitions', 'Forecasting', 'Pricing', 'Budgeting', 'Contract Negotiation', 'Yield Management', 'Revenue Analysis', 'Network Security', 'Data Center', 'Cloud Computing', 'ITIL', 'Affiliate Marketing', 'Employer Branding', 'Purchasing', 'New Media', 'User Experience', 'Creative Direction', 'Content Strategy', 'Corporate Finance', 'Content Marketing', 'Financial Analysis', 'Data Migration', 'Financial Accounting', 'Due Diligence', 'Data Warehousing', 'Security', 'Servers', 'System Administration', 'Editing', 'Qualitative Research', 'Project Coordination', 'Adobe Creative Suite', 'Presentations', 'HR Policies', 'Deferred Compensation', 'Professional Services', 'Process Engineering', 'Semiconductors', 'Adobe Photoshop', 'Blogging', 'SPSS', 'Graphics', 'Illustrator', 'Art Direction', 'Employee Training', 'Screening Resumes', 'SDLC', 'PL/SQL', 'Subversion', 'Salesforce.com', 'Business Requirements', 'Translation', 'Investment Banking', 'Transportation', 'Warehousing', 'Supply Chain Optimization', 'Quality Assurance', 'Market Planning', 'Scala', 'Hadoop', 'Production Planning', 'ASP.NET MVC', 'Design Patterns', 'Algorithms', 'PostgreSQL', 'Employee Benefits', 'Writing', 'Matlab', 'Database Design', 'Video Editing', 'Eclipse', 'Personnel Management', 'Temporary Placement', 'Drupal', 'Consumer Behaviour', 'RESTful WebServices', 'Television', 'JIRA', 'Trade Marketing', 'Restaurants', 'Hibernate', 'REST', 'JSP', 'Spring Framework', 'Tomcat', 'IP', 'Virtualization', 'French', 'Xcode', 'Website Development', 'GSM', '3G', 'Insurance', 'Customer Relations', 'UML', 'Technical Support', 'Valuation', 'Swift', 'MS Project', 'Contract Management', 'MVC']\n"
     ]
    }
   ],
   "source": [
    "candi = candi_sk.apply(lambda x : skill_to_list(x))\n",
    "# print(candi.head())\n",
    "skill_union = []\n",
    "for cd in candi:\n",
    "    skill_union = skill_union + [x for x in cd if x not in skill_union]\n",
    "\n",
    "# common skills of skill_count\n",
    "skill_count = {}\n",
    "for skill in skill_union:\n",
    "    skill_count[skill] = 0\n",
    "\n",
    "for cd in candi:\n",
    "    for skill in cd:\n",
    "        skill_count[skill] += 1\n",
    "\n",
    "common_skill = []\n",
    "common_skill_threshold = 10\n",
    "for skill in skill_count.keys():\n",
    "    if skill_count[skill] > common_skill_threshold:\n",
    "        common_skill.append(skill)\n",
    "print(\"there are {} skills where #common > {} skills\".format(len(common_skill), common_skill_threshold))\n",
    "print(\"common skills are: {}\".format(common_skill))"
   ]
  },
  {
   "cell_type": "code",
   "execution_count": 22,
   "metadata": {},
   "outputs": [
    {
     "data": {
      "text/plain": [
       "'<p><strong>Responsible:</strong></p><ul><li>Prospect, pitch and close sales</li><li>Lead discovery sessions to identify the customer&rsquo;s key needs and pain points</li><li>Work with the prospect in a consultative fashion to develop a digital marketing strategy</li><li>Consistently deliver individual sales targets every month</li><li>Prepares reports by collecting, analyzing, and summarizing information</li><li>Develop a strong understanding of the client&rsquo;s business and make digital marketing plan</li><li>Maintains professional and technical knowledge by attending educational workshops; reviewing professional publications; establishing personal networks; benchmarking state-of-the-art practices; participating in professional societies</li><li>Continuously develop yourself and your team to stay on top of the latest industry innovations and trends</li><li>Lead and navigate the team</li><li>Engage in recruiting, training and retaining</li></ul><p><strong>Qualification:</strong></p><ul><li>Bachelor&rsquo;s Degree</li><li>Good command of English and Thai</li><li>Experience in Sales for 2+ years with outstanding result</li><li>Experience in Digital Marketing industry for 1+ year &nbsp;</li><li>Critical thinking and Logical Reasoning</li><li>Fun to communicate with</li><li>Result-oriented mind with passion for work</li><li>Detail-oriented, well organized with good sense of responsibility</li></ul>'"
      ]
     },
     "execution_count": 22,
     "metadata": {},
     "output_type": "execute_result"
    }
   ],
   "source": [
    "jobs_raw.iloc[1][\"description\"]"
   ]
  },
  {
   "cell_type": "code",
   "execution_count": 34,
   "metadata": {},
   "outputs": [
    {
     "data": {
      "text/plain": [
       "True"
      ]
     },
     "execution_count": 34,
     "metadata": {},
     "output_type": "execute_result"
    }
   ],
   "source": [
    "True if 'Digital Marketing' in common_skill else False"
   ]
  },
  {
   "cell_type": "code",
   "execution_count": 35,
   "metadata": {
    "collapsed": true
   },
   "outputs": [],
   "source": [
    "# to create label for each candidate, 1 if they have these skills \n",
    "job_require = ['Leadership',\n",
    "               'Marketing',\n",
    "               'Marketing Strategy',\n",
    "               'Training',\n",
    "               'Analysis',\n",
    "               'Digital Marketing',\n",
    "               'Business Planning',\n",
    "               'Online Marketing',\n",
    "               'Team Leadership']"
   ]
  },
  {
   "cell_type": "code",
   "execution_count": 39,
   "metadata": {
    "collapsed": true
   },
   "outputs": [],
   "source": [
    "@np.vectorize\n",
    "def intersect_job_require(l):\n",
    "    return len([x for x in job_require if x in l]) >= 3"
   ]
  },
  {
   "cell_type": "code",
   "execution_count": 40,
   "metadata": {},
   "outputs": [
    {
     "data": {
      "text/plain": [
       "0    [Strategy, Start-ups, Business Strategy, Manag...\n",
       "1    [Management, Social Media, Microsoft Office, C...\n",
       "2    [Sales, Logistics, Management, Operations Mana...\n",
       "3    [Food, Marketing Strategy, Management, Sales M...\n",
       "4    [FinTech, Biometrics, Tokenization, Blockchain...\n",
       "Name: skills, dtype: object"
      ]
     },
     "execution_count": 40,
     "metadata": {},
     "output_type": "execute_result"
    }
   ],
   "source": [
    "candi.head()"
   ]
  },
  {
   "cell_type": "code",
   "execution_count": 52,
   "metadata": {},
   "outputs": [
    {
     "name": "stdout",
     "output_type": "stream",
     "text": [
      "[ True False False ..., False False False]\n",
      "1203\n"
     ]
    }
   ],
   "source": [
    "label = intersect_job_require(candi)\n",
    "print(label)\n",
    "print(len(label))"
   ]
  },
  {
   "cell_type": "code",
   "execution_count": 54,
   "metadata": {},
   "outputs": [
    {
     "name": "stdout",
     "output_type": "stream",
     "text": [
      "0     [Strategy, Start-ups, Business Strategy, Manag...\n",
      "4     [FinTech, Biometrics, Tokenization, Blockchain...\n",
      "8     [Media Relations, Public Relations, Corporate ...\n",
      "10    [Marketing Communications, Public Relations, S...\n",
      "14    [Digital Marketing, E-commerce, SEO, Online Ma...\n",
      "Name: skills, dtype: object\n"
     ]
    }
   ],
   "source": [
    "len(candi[intersect_job_require(candi)])\n",
    "print(candi[intersect_job_require(candi)].head())"
   ]
  },
  {
   "cell_type": "code",
   "execution_count": 56,
   "metadata": {},
   "outputs": [
    {
     "name": "stdout",
     "output_type": "stream",
     "text": [
      "[0 0 0 1 0 0 1 0 0 0 0 0 0 0 0 0 0 0 0 0 0 0 0 0 0 0 0 0 0 0 0 1 0 0 0 0 0\n",
      " 0 0 0 0 1 0 0 0 0 1 0 0 0 0 1 0 0 0 0 0 0 0 0 0 0 0 0 0 0 0 0 0 0 0 1 0 0\n",
      " 0 0 0 0 0 1 1 0 0 0 0 0 0 0 1 0 0 0 0 0 0 0 0 0 0 0]\n"
     ]
    }
   ],
   "source": [
    "up = np.random.choice([0,1],len(candi),p=[0.9,0.1])\n",
    "print(up[0:100])"
   ]
  },
  {
   "cell_type": "code",
   "execution_count": 57,
   "metadata": {},
   "outputs": [
    {
     "name": "stdout",
     "output_type": "stream",
     "text": [
      "[0 0 0 0 0 0 0 1 0 0 0 0 1 0 0 0 0 0 0 0 0 0 0 0 0 0 0 0 0 0 0 0 0 0 0 1 0\n",
      " 0 0 1 0 0 0 0 0 0 0 0 0 0 0 0 0 0 1 0 0 0 0 1 0 0 1 0 0 0 1 0 0 1 0 0 0 0\n",
      " 0 0 0 0 0 0 0 0 1 0 0 0 0 0 0 0 0 0 0 0 0 0 0 0 0 0]\n"
     ]
    }
   ],
   "source": [
    "down = np.random.choice([0,1],len(candi),p=[0.9,0.1])\n",
    "print(down[0:100])"
   ]
  },
  {
   "cell_type": "code",
   "execution_count": 58,
   "metadata": {},
   "outputs": [
    {
     "data": {
      "text/plain": [
       "array([ True, False, False, ..., False, False,  True], dtype=bool)"
      ]
     },
     "execution_count": 58,
     "metadata": {},
     "output_type": "execute_result"
    }
   ],
   "source": [
    "label2 = label | (up==1)\n",
    "label2"
   ]
  },
  {
   "cell_type": "code",
   "execution_count": 60,
   "metadata": {},
   "outputs": [
    {
     "data": {
      "text/plain": [
       "array([ True, False, False, ..., False, False,  True], dtype=bool)"
      ]
     },
     "execution_count": 60,
     "metadata": {},
     "output_type": "execute_result"
    }
   ],
   "source": [
    "label3 = label2 & (down==0)\n",
    "label3"
   ]
  },
  {
   "cell_type": "code",
   "execution_count": 61,
   "metadata": {
    "collapsed": true
   },
   "outputs": [],
   "source": [
    "label3\n",
    "fm = pd.DataFrame(label3)"
   ]
  },
  {
   "cell_type": "code",
   "execution_count": 62,
   "metadata": {},
   "outputs": [
    {
     "data": {
      "text/plain": [
       "266"
      ]
     },
     "execution_count": 62,
     "metadata": {},
     "output_type": "execute_result"
    }
   ],
   "source": [
    "len(label[label==True])"
   ]
  },
  {
   "cell_type": "code",
   "execution_count": 63,
   "metadata": {},
   "outputs": [
    {
     "data": {
      "text/plain": [
       "327"
      ]
     },
     "execution_count": 63,
     "metadata": {},
     "output_type": "execute_result"
    }
   ],
   "source": [
    "len(label3[label3==True])"
   ]
  },
  {
   "cell_type": "code",
   "execution_count": 41,
   "metadata": {
    "collapsed": true
   },
   "outputs": [],
   "source": [
    "fm.to_csv(\"label.csv\")"
   ]
  }
 ],
 "metadata": {
  "kernelspec": {
   "display_name": "Python 3",
   "language": "python",
   "name": "python3"
  },
  "language_info": {
   "codemirror_mode": {
    "name": "ipython",
    "version": 3
   },
   "file_extension": ".py",
   "mimetype": "text/x-python",
   "name": "python",
   "nbconvert_exporter": "python",
   "pygments_lexer": "ipython3",
   "version": "3.6.2"
  }
 },
 "nbformat": 4,
 "nbformat_minor": 2
}
